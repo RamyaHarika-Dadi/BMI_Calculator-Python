{
 "cells": [
  {
   "cell_type": "markdown",
   "id": "e349ae01-0bf8-4b44-b062-db154c494102",
   "metadata": {},
   "source": [
    "# BMI Calculator"
   ]
  },
  {
   "cell_type": "raw",
   "id": "203e8c5d-9cf8-459d-b028-cc85eb0507e7",
   "metadata": {},
   "source": [
    "#BMI = (weight in pounds x 703) / (height in inches x height in inches)\n",
    "\n",
    "Under 18.5\tUnderweight\tMinimal\n",
    "18.5 - 24.9\tNormal Weight\tMinimal\n",
    "25 - 29.9\tOverweight\tIncreased\n",
    "30 - 34.9\tObese\tHigh\n",
    "35 - 39.9\tSeverely Obese\tVery High\n",
    "40 and over\tMorbidly Obese\tExtremely High"
   ]
  },
  {
   "cell_type": "code",
   "execution_count": 2,
   "id": "359e9f99-91f1-4eab-b7ee-c97b7eacd163",
   "metadata": {},
   "outputs": [
    {
     "name": "stdin",
     "output_type": "stream",
     "text": [
      "enter your name:  ramya\n",
      "Enter your weight in pounds:  170\n",
      "Enter your height in inches:  5\n"
     ]
    },
    {
     "name": "stdout",
     "output_type": "stream",
     "text": [
      "your BMI is 4780.4\n",
      "ramya, you are Morbidly Obese.\n"
     ]
    }
   ],
   "source": [
    "name = input(\"enter your name: \")\n",
    "\n",
    "weight = int(input(\"Enter your weight in pounds: \"))\n",
    "\n",
    "height = int(input(\"Enter your height in inches: \"))\n",
    "\n",
    "BMI = (weight * 703) / (height * height)\n",
    "\n",
    "print(\"your BMI is {}\".format( BMI))\n",
    "\n",
    "if BMI > 0:\n",
    "    if BMI < 18.5:\n",
    "        print(name + \", you are Under Weight.\")\n",
    "    elif BMI <=24.9:\n",
    "        print(name + \", you are Normal Weight.\")\n",
    "    elif BMI <= 29.9:\n",
    "        print(name + \", you are Over Weight.\")\n",
    "    elif BMI <= 34.9:\n",
    "        print(name + \", you are Obese High.\")\n",
    "    elif BMI <=39.9:\n",
    "        print(name + \", you are Severely Obese.\")\n",
    "    elif BMI > 40:\n",
    "        print(name + \", you are Morbidly Obese.\")\n",
    "else:\n",
    "    print(\"Enter a valid values for weight and height.\")"
   ]
  },
  {
   "cell_type": "code",
   "execution_count": null,
   "id": "e3117bcb-6a20-495b-bb7c-fdf9a51114b6",
   "metadata": {},
   "outputs": [],
   "source": []
  }
 ],
 "metadata": {
  "kernelspec": {
   "display_name": "Python 3 (ipykernel)",
   "language": "python",
   "name": "python3"
  },
  "language_info": {
   "codemirror_mode": {
    "name": "ipython",
    "version": 3
   },
   "file_extension": ".py",
   "mimetype": "text/x-python",
   "name": "python",
   "nbconvert_exporter": "python",
   "pygments_lexer": "ipython3",
   "version": "3.11.7"
  }
 },
 "nbformat": 4,
 "nbformat_minor": 5
}
